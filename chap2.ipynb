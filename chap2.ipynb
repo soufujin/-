{
  "cells": [
    {
      "cell_type": "markdown",
      "metadata": {
        "tags": [],
        "toc-hr-collapsed": false,
        "id": "gdiASBQLC0Ba"
      },
      "source": [
        "# Chapter2"
      ]
    },
    {
      "cell_type": "markdown",
      "metadata": {
        "id": "6u0zelihC0Bb"
      },
      "source": [
        "## コメント"
      ]
    },
    {
      "cell_type": "markdown",
      "metadata": {
        "id": "Xy17b2HtC0Bb"
      },
      "source": [
        "コメントを記載するには，「#」を使います"
      ]
    },
    {
      "cell_type": "code",
      "execution_count": 1,
      "metadata": {
        "id": "MeeLnP_FC0Bb",
        "outputId": "6e49bdbd-afbd-4033-97b6-3792a902c1b3",
        "colab": {
          "base_uri": "https://localhost:8080/"
        }
      },
      "outputs": [
        {
          "output_type": "stream",
          "name": "stdout",
          "text": [
            "1\n"
          ]
        }
      ],
      "source": [
        "# コメントです\n",
        "print(1) # 1を表示\n"
      ]
    },
    {
      "cell_type": "markdown",
      "metadata": {
        "id": "o0XMTbGiC0Bc"
      },
      "source": [
        "docstringを記載するときには，''' を使います"
      ]
    },
    {
      "cell_type": "code",
      "execution_count": 2,
      "metadata": {
        "id": "LH8FA1cmC0Bc",
        "outputId": "4d72f0d0-582a-4623-ffb4-d3928155b938",
        "colab": {
          "base_uri": "https://localhost:8080/",
          "height": 35
        }
      },
      "outputs": [
        {
          "output_type": "execute_result",
          "data": {
            "text/plain": [
              "'\\n関数の説明\\nコメント1\\nコメント2\\n'"
            ],
            "application/vnd.google.colaboratory.intrinsic+json": {
              "type": "string"
            }
          },
          "metadata": {},
          "execution_count": 2
        }
      ],
      "source": [
        "'''\n",
        "関数の説明\n",
        "コメント1\n",
        "コメント2\n",
        "'''\n"
      ]
    },
    {
      "cell_type": "markdown",
      "metadata": {
        "id": "ikDkZi14C0Bc"
      },
      "source": [
        "## Print文"
      ]
    },
    {
      "cell_type": "markdown",
      "metadata": {
        "id": "mS5XCVrPC0Bd"
      },
      "source": [
        "文字列は，シングルクォーテーションを用いて定義します\n",
        "\n",
        "そして，print関数を用いることで，文字列や数値，そして変数の値を出力できます"
      ]
    },
    {
      "cell_type": "code",
      "execution_count": 3,
      "metadata": {
        "id": "p72xX8AzC0Bd",
        "outputId": "603f4262-bb62-46b2-b63e-9e1174079895",
        "colab": {
          "base_uri": "https://localhost:8080/"
        }
      },
      "outputs": [
        {
          "output_type": "stream",
          "name": "stdout",
          "text": [
            "Control\n"
          ]
        }
      ],
      "source": [
        "print('Control')\n"
      ]
    },
    {
      "cell_type": "markdown",
      "metadata": {
        "id": "nfOqMcTjC0Be"
      },
      "source": [
        "＋　で文字列を結合できます"
      ]
    },
    {
      "cell_type": "code",
      "execution_count": 4,
      "metadata": {
        "id": "tuCzx_ulC0Be",
        "outputId": "0cfdace4-13ef-434f-f2ed-a36a9c916946",
        "colab": {
          "base_uri": "https://localhost:8080/"
        }
      },
      "outputs": [
        {
          "output_type": "stream",
          "name": "stdout",
          "text": [
            "制御工学\n"
          ]
        }
      ],
      "source": [
        "print('制御' + '工学')\n"
      ]
    },
    {
      "cell_type": "markdown",
      "metadata": {
        "id": "cKTauaX-C0Be"
      },
      "source": [
        "＊　で文字列を複数回出力できます"
      ]
    },
    {
      "cell_type": "code",
      "execution_count": 5,
      "metadata": {
        "id": "2SM1Vv0kC0Be",
        "outputId": "4ce715f9-546c-4eca-8592-3f3752fba9da",
        "colab": {
          "base_uri": "https://localhost:8080/"
        }
      },
      "outputs": [
        {
          "output_type": "stream",
          "name": "stdout",
          "text": [
            "制御工学制御工学制御工学制御工学制御工学\n"
          ]
        }
      ],
      "source": [
        "print('制御工学' * 5)\n"
      ]
    },
    {
      "cell_type": "markdown",
      "metadata": {
        "id": "2bp_8XgCC0Be"
      },
      "source": [
        "## エスケープシーケンス"
      ]
    },
    {
      "cell_type": "markdown",
      "metadata": {
        "id": "xHrfDtS9C0Be"
      },
      "source": [
        "文字出力の制御を行う特殊な文字列があります"
      ]
    },
    {
      "cell_type": "code",
      "execution_count": 6,
      "metadata": {
        "id": "rPBgeDlGC0Be",
        "outputId": "de7670ef-c653-486e-8bc1-c72b9d6ac7ec",
        "colab": {
          "base_uri": "https://localhost:8080/"
        }
      },
      "outputs": [
        {
          "output_type": "stream",
          "name": "stdout",
          "text": [
            " ' \" \\ \n"
          ]
        }
      ],
      "source": [
        "print(' \\' \\\" \\\\ ') # クォーテションやバックスラッシュの表示\n"
      ]
    },
    {
      "cell_type": "code",
      "execution_count": 7,
      "metadata": {
        "id": "w-5oJCn5C0Be",
        "outputId": "2511d8bb-d46c-48d1-aaec-f139b451e109",
        "colab": {
          "base_uri": "https://localhost:8080/"
        }
      },
      "outputs": [
        {
          "output_type": "stream",
          "name": "stdout",
          "text": [
            "制御\t 工学 \n",
            "制御\t 工学 \n",
            "制御\t 工学 \n",
            "制御\t 工学 \n",
            "制御\t 工学 \n",
            "\n"
          ]
        }
      ],
      "source": [
        "print('制御\\t 工学 \\n' * 5) # タブと改行\n"
      ]
    },
    {
      "cell_type": "markdown",
      "metadata": {
        "id": "aWJggq5vC0Be"
      },
      "source": [
        "## カウント"
      ]
    },
    {
      "cell_type": "markdown",
      "metadata": {
        "id": "ipk5lrX2C0Be"
      },
      "source": [
        "要素数を数えるには，len関数を用います"
      ]
    },
    {
      "cell_type": "code",
      "execution_count": 8,
      "metadata": {
        "id": "5j3EqNqtC0Be",
        "outputId": "a8091842-f3f3-4f5f-bd9b-e69696f0d501",
        "colab": {
          "base_uri": "https://localhost:8080/"
        }
      },
      "outputs": [
        {
          "output_type": "execute_result",
          "data": {
            "text/plain": [
              "8"
            ]
          },
          "metadata": {},
          "execution_count": 8
        }
      ],
      "source": [
        "len('せいぎょこうがく')\n"
      ]
    },
    {
      "cell_type": "markdown",
      "metadata": {
        "id": "gj2JKkuiC0Be"
      },
      "source": [
        "## 数値"
      ]
    },
    {
      "cell_type": "markdown",
      "metadata": {
        "id": "x5zaDQWhC0Be"
      },
      "source": [
        "### 整数，小数，複素数"
      ]
    },
    {
      "cell_type": "code",
      "execution_count": 9,
      "metadata": {
        "id": "MWvQK7h5C0Be",
        "outputId": "da723fc5-7133-47f7-fe77-81c1755f123a",
        "colab": {
          "base_uri": "https://localhost:8080/"
        }
      },
      "outputs": [
        {
          "output_type": "execute_result",
          "data": {
            "text/plain": [
              "12"
            ]
          },
          "metadata": {},
          "execution_count": 9
        }
      ],
      "source": [
        "12\n"
      ]
    },
    {
      "cell_type": "code",
      "execution_count": 10,
      "metadata": {
        "id": "lr7sOKFvC0Be",
        "outputId": "1901e5b0-e779-4ac4-f83f-40f11c599574",
        "colab": {
          "base_uri": "https://localhost:8080/"
        }
      },
      "outputs": [
        {
          "output_type": "execute_result",
          "data": {
            "text/plain": [
              "10.1"
            ]
          },
          "metadata": {},
          "execution_count": 10
        }
      ],
      "source": [
        "10.1\n"
      ]
    },
    {
      "cell_type": "code",
      "execution_count": 11,
      "metadata": {
        "id": "tkTnj8gaC0Bf",
        "outputId": "dd0e7ed3-a297-4aa1-82e5-aade6071fb53",
        "colab": {
          "base_uri": "https://localhost:8080/"
        }
      },
      "outputs": [
        {
          "output_type": "execute_result",
          "data": {
            "text/plain": [
              "(1+2j)"
            ]
          },
          "metadata": {},
          "execution_count": 11
        }
      ],
      "source": [
        "1 + 2j\n"
      ]
    },
    {
      "cell_type": "code",
      "execution_count": 12,
      "metadata": {
        "id": "nZ46QFtpC0Bf",
        "outputId": "529e119b-4114-43d3-bcf1-a8e1373ee926",
        "colab": {
          "base_uri": "https://localhost:8080/"
        }
      },
      "outputs": [
        {
          "output_type": "execute_result",
          "data": {
            "text/plain": [
              "1j"
            ]
          },
          "metadata": {},
          "execution_count": 12
        }
      ],
      "source": [
        "1j\n"
      ]
    },
    {
      "cell_type": "markdown",
      "metadata": {
        "id": "qdN0mvQdC0Bf"
      },
      "source": [
        "### 2進数と16進数"
      ]
    },
    {
      "cell_type": "code",
      "execution_count": 13,
      "metadata": {
        "id": "hNGkDYjpC0Bf",
        "outputId": "dd1e2144-badd-496b-dda4-aae6f8ba6117",
        "colab": {
          "base_uri": "https://localhost:8080/"
        }
      },
      "outputs": [
        {
          "output_type": "execute_result",
          "data": {
            "text/plain": [
              "10"
            ]
          },
          "metadata": {},
          "execution_count": 13
        }
      ],
      "source": [
        "0b1010\n"
      ]
    },
    {
      "cell_type": "code",
      "execution_count": 14,
      "metadata": {
        "id": "vIUQXTaZC0Bf",
        "outputId": "a647422b-2075-450e-ebf5-298b3db219e8",
        "colab": {
          "base_uri": "https://localhost:8080/"
        }
      },
      "outputs": [
        {
          "output_type": "execute_result",
          "data": {
            "text/plain": [
              "161"
            ]
          },
          "metadata": {},
          "execution_count": 14
        }
      ],
      "source": [
        "0xA1\n"
      ]
    },
    {
      "cell_type": "markdown",
      "metadata": {
        "id": "xfJO1-HtC0Bf"
      },
      "source": [
        "e を用いると10のべき乗が記述できます"
      ]
    },
    {
      "cell_type": "code",
      "execution_count": 15,
      "metadata": {
        "id": "x4hk4ihnC0Bf",
        "outputId": "7dd21652-3f40-45d0-de27-eb5a803ed003",
        "colab": {
          "base_uri": "https://localhost:8080/"
        }
      },
      "outputs": [
        {
          "output_type": "execute_result",
          "data": {
            "text/plain": [
              "4300.0"
            ]
          },
          "metadata": {},
          "execution_count": 15
        }
      ],
      "source": [
        "4.3e3\n"
      ]
    },
    {
      "cell_type": "code",
      "execution_count": 16,
      "metadata": {
        "id": "pAb7oKr3C0Bf",
        "outputId": "5cbfffb8-d6e4-4f87-93f0-32448470840c",
        "colab": {
          "base_uri": "https://localhost:8080/"
        }
      },
      "outputs": [
        {
          "output_type": "execute_result",
          "data": {
            "text/plain": [
              "0.0043"
            ]
          },
          "metadata": {},
          "execution_count": 16
        }
      ],
      "source": [
        "4.3e-3\n"
      ]
    },
    {
      "cell_type": "markdown",
      "metadata": {
        "id": "8qRQErowC0Bf"
      },
      "source": [
        "### 四則演算"
      ]
    },
    {
      "cell_type": "code",
      "execution_count": 17,
      "metadata": {
        "id": "uKP4crltC0Bf",
        "outputId": "1f0f2924-3694-4cb7-a89d-3a7f5d3f6dd0",
        "colab": {
          "base_uri": "https://localhost:8080/"
        }
      },
      "outputs": [
        {
          "output_type": "execute_result",
          "data": {
            "text/plain": [
              "3"
            ]
          },
          "metadata": {},
          "execution_count": 17
        }
      ],
      "source": [
        "1 + 2\n"
      ]
    },
    {
      "cell_type": "code",
      "execution_count": 18,
      "metadata": {
        "id": "UKiZKdr5C0Bf",
        "outputId": "dc373016-3f3a-407c-bc00-bc6d8beae35c",
        "colab": {
          "base_uri": "https://localhost:8080/"
        }
      },
      "outputs": [
        {
          "output_type": "execute_result",
          "data": {
            "text/plain": [
              "2"
            ]
          },
          "metadata": {},
          "execution_count": 18
        }
      ],
      "source": [
        "5 - 3\n"
      ]
    },
    {
      "cell_type": "code",
      "execution_count": 19,
      "metadata": {
        "id": "9MfyC2jlC0Bf",
        "outputId": "f95f91f3-36fb-4152-ac8d-388ec04f5750",
        "colab": {
          "base_uri": "https://localhost:8080/"
        }
      },
      "outputs": [
        {
          "output_type": "execute_result",
          "data": {
            "text/plain": [
              "24"
            ]
          },
          "metadata": {},
          "execution_count": 19
        }
      ],
      "source": [
        "4 * 6\n"
      ]
    },
    {
      "cell_type": "code",
      "execution_count": 20,
      "metadata": {
        "id": "LOl160DAC0Bf",
        "outputId": "0d24962b-1d6b-48dd-a1e0-127df5838f44",
        "colab": {
          "base_uri": "https://localhost:8080/"
        }
      },
      "outputs": [
        {
          "output_type": "execute_result",
          "data": {
            "text/plain": [
              "2.0"
            ]
          },
          "metadata": {},
          "execution_count": 20
        }
      ],
      "source": [
        "10 / 5\n"
      ]
    },
    {
      "cell_type": "markdown",
      "metadata": {
        "id": "x82Jet7XC0Bf"
      },
      "source": [
        "### 商と余"
      ]
    },
    {
      "cell_type": "code",
      "execution_count": 21,
      "metadata": {
        "id": "fEASkcq7C0Bf",
        "outputId": "c13b0d2c-ab4f-4f70-bd03-15300b0f803e",
        "colab": {
          "base_uri": "https://localhost:8080/"
        }
      },
      "outputs": [
        {
          "output_type": "execute_result",
          "data": {
            "text/plain": [
              "3"
            ]
          },
          "metadata": {},
          "execution_count": 21
        }
      ],
      "source": [
        "17 // 5\n"
      ]
    },
    {
      "cell_type": "code",
      "execution_count": 22,
      "metadata": {
        "id": "YmiM3-GcC0Bn",
        "outputId": "235ed7e9-4ddc-4581-e971-3942951fd44c",
        "colab": {
          "base_uri": "https://localhost:8080/"
        }
      },
      "outputs": [
        {
          "output_type": "execute_result",
          "data": {
            "text/plain": [
              "2"
            ]
          },
          "metadata": {},
          "execution_count": 22
        }
      ],
      "source": [
        "17 % 5\n"
      ]
    },
    {
      "cell_type": "code",
      "execution_count": 23,
      "metadata": {
        "id": "wF5A5pINC0Bn",
        "outputId": "227e7a98-f88b-4ba1-ef4f-c2938ef75ac0",
        "colab": {
          "base_uri": "https://localhost:8080/"
        }
      },
      "outputs": [
        {
          "output_type": "execute_result",
          "data": {
            "text/plain": [
              "9"
            ]
          },
          "metadata": {},
          "execution_count": 23
        }
      ],
      "source": [
        "3 ** 2\n"
      ]
    },
    {
      "cell_type": "markdown",
      "metadata": {
        "id": "1cRKSJzBC0Bn"
      },
      "source": [
        "## 変数"
      ]
    },
    {
      "cell_type": "markdown",
      "metadata": {
        "id": "md8KbOYEC0Bn"
      },
      "source": [
        "= を用いて変数を定義します。変数の型は代入する数値で変わります"
      ]
    },
    {
      "cell_type": "code",
      "execution_count": 24,
      "metadata": {
        "id": "g5LeuCsDC0Bn",
        "outputId": "3bedf601-00ce-4d84-e30c-db14a45290ca",
        "colab": {
          "base_uri": "https://localhost:8080/"
        }
      },
      "outputs": [
        {
          "output_type": "stream",
          "name": "stdout",
          "text": [
            "1\n",
            "<class 'int'>\n"
          ]
        }
      ],
      "source": [
        "x = 1\n",
        "print(x)\n",
        "print(type(x))\n"
      ]
    },
    {
      "cell_type": "code",
      "execution_count": 25,
      "metadata": {
        "id": "HHkT6fKJC0Bn",
        "outputId": "cb1ff5be-8951-43c7-d00f-2ca0d5f49647",
        "colab": {
          "base_uri": "https://localhost:8080/"
        }
      },
      "outputs": [
        {
          "output_type": "stream",
          "name": "stdout",
          "text": [
            "x = 1\n"
          ]
        }
      ],
      "source": [
        "print('x =',x)\n"
      ]
    },
    {
      "cell_type": "markdown",
      "metadata": {
        "id": "wktNLYgEC0Bn"
      },
      "source": [
        "fstringという記法です。文字列出力に　f''　を使い，中の変数を　{}　で囲む"
      ]
    },
    {
      "cell_type": "code",
      "execution_count": 26,
      "metadata": {
        "id": "0lSP0RGtC0Bn",
        "outputId": "e2bd3ec9-9ea9-4f95-ee6d-886baf303896",
        "colab": {
          "base_uri": "https://localhost:8080/"
        }
      },
      "outputs": [
        {
          "output_type": "stream",
          "name": "stdout",
          "text": [
            "x = 1\n"
          ]
        }
      ],
      "source": [
        "print(f'x = {x}')\n"
      ]
    },
    {
      "cell_type": "code",
      "execution_count": 27,
      "metadata": {
        "id": "AAPMKktcC0Bo",
        "outputId": "40375bca-bc75-4fb4-93ab-24f4f896e185",
        "colab": {
          "base_uri": "https://localhost:8080/"
        }
      },
      "outputs": [
        {
          "output_type": "stream",
          "name": "stdout",
          "text": [
            "1.0\n",
            "<class 'float'>\n"
          ]
        }
      ],
      "source": [
        "y = 1.0\n",
        "print(y)\n",
        "print(type(y))\n"
      ]
    },
    {
      "cell_type": "code",
      "execution_count": 28,
      "metadata": {
        "id": "PnLlEt1FC0Bo",
        "outputId": "f2f59b10-cc81-4338-d485-087d0ee9fe3f",
        "colab": {
          "base_uri": "https://localhost:8080/"
        }
      },
      "outputs": [
        {
          "output_type": "stream",
          "name": "stdout",
          "text": [
            "(2+3j)\n",
            "<class 'complex'>\n"
          ]
        }
      ],
      "source": [
        "z = 2 + 3j\n",
        "print(z)\n",
        "print(type(z))\n"
      ]
    },
    {
      "cell_type": "code",
      "execution_count": 29,
      "metadata": {
        "id": "ot5kliNlC0Bo",
        "outputId": "30fff57b-def4-45e5-c4f7-24bc2e396dcf",
        "colab": {
          "base_uri": "https://localhost:8080/"
        }
      },
      "outputs": [
        {
          "output_type": "stream",
          "name": "stdout",
          "text": [
            "Control\n",
            "<class 'str'>\n"
          ]
        }
      ],
      "source": [
        "msg = 'Control'\n",
        "print(msg)\n",
        "print(type(msg))\n"
      ]
    },
    {
      "cell_type": "code",
      "execution_count": 30,
      "metadata": {
        "id": "12eLi54tC0Bo",
        "outputId": "a973fa72-0616-474e-c70c-0f6dd0557a07",
        "colab": {
          "base_uri": "https://localhost:8080/"
        }
      },
      "outputs": [
        {
          "output_type": "stream",
          "name": "stdout",
          "text": [
            "True\n",
            "<class 'bool'>\n"
          ]
        }
      ],
      "source": [
        "ok = True\n",
        "print(ok)\n",
        "print(type(ok))\n"
      ]
    },
    {
      "cell_type": "markdown",
      "metadata": {
        "id": "-1tf_VorC0Bo"
      },
      "source": [
        "### 型変換"
      ]
    },
    {
      "cell_type": "markdown",
      "metadata": {
        "id": "A_adkOd9C0Bo"
      },
      "source": [
        "変数の型は変換できます"
      ]
    },
    {
      "cell_type": "code",
      "execution_count": 31,
      "metadata": {
        "id": "4V0zXDgjC0Bo",
        "outputId": "e2a0f007-3e64-4841-9b45-b440c2e312fa",
        "colab": {
          "base_uri": "https://localhost:8080/"
        }
      },
      "outputs": [
        {
          "output_type": "stream",
          "name": "stdout",
          "text": [
            "1\n",
            "<class 'int'>\n"
          ]
        }
      ],
      "source": [
        "z = int(y)\n",
        "print(z)\n",
        "print(type(z))\n"
      ]
    },
    {
      "cell_type": "code",
      "execution_count": 32,
      "metadata": {
        "id": "70ECOz_cC0Bo",
        "outputId": "feb3807f-50c2-4662-d099-de3b98e1b643",
        "colab": {
          "base_uri": "https://localhost:8080/"
        }
      },
      "outputs": [
        {
          "output_type": "stream",
          "name": "stdout",
          "text": [
            "1\n",
            "<class 'str'>\n"
          ]
        }
      ],
      "source": [
        "word = str(x)\n",
        "print(word)\n",
        "print(type(word))\n"
      ]
    },
    {
      "cell_type": "markdown",
      "metadata": {
        "id": "dH3ksBbvC0Bo"
      },
      "source": [
        "## リスト"
      ]
    },
    {
      "cell_type": "markdown",
      "metadata": {
        "id": "Xq8YEuJEC0Bo"
      },
      "source": [
        "複数の要素を格納する変数をリストといいます"
      ]
    },
    {
      "cell_type": "code",
      "execution_count": 33,
      "metadata": {
        "id": "STfSsmUYC0Bo",
        "outputId": "53353c97-66e4-4e94-c294-7d893b950459",
        "colab": {
          "base_uri": "https://localhost:8080/"
        }
      },
      "outputs": [
        {
          "output_type": "execute_result",
          "data": {
            "text/plain": [
              "[3, 5, 2, 4, 6, 1]"
            ]
          },
          "metadata": {},
          "execution_count": 33
        }
      ],
      "source": [
        "data1 = [3, 5, 2, 4, 6, 1]\n",
        "data1\n"
      ]
    },
    {
      "cell_type": "markdown",
      "metadata": {
        "id": "9FUlZF02C0Bo"
      },
      "source": [
        "リストは入れ子にすることができます"
      ]
    },
    {
      "cell_type": "code",
      "execution_count": 34,
      "metadata": {
        "id": "4lZh2cdYC0Bo",
        "outputId": "eb6331ec-a6fa-4ef9-ea09-7a5ca7465637",
        "colab": {
          "base_uri": "https://localhost:8080/"
        }
      },
      "outputs": [
        {
          "output_type": "execute_result",
          "data": {
            "text/plain": [
              "[[3, 5, 2], [4, 6, 1]]"
            ]
          },
          "metadata": {},
          "execution_count": 34
        }
      ],
      "source": [
        "data2 = [ [3, 5, 2], [4, 6, 1] ]\n",
        "data2\n"
      ]
    },
    {
      "cell_type": "markdown",
      "metadata": {
        "id": "AT5XIK4PC0Bo"
      },
      "source": [
        "リストから要素を取り出すには，インデックス番号を指定します。インデックスは０からはじまります。"
      ]
    },
    {
      "cell_type": "code",
      "execution_count": 35,
      "metadata": {
        "id": "Jl8rimNyC0Bo",
        "outputId": "f6a693ff-e763-4b01-e1f2-de6def60f0a3",
        "colab": {
          "base_uri": "https://localhost:8080/"
        }
      },
      "outputs": [
        {
          "output_type": "execute_result",
          "data": {
            "text/plain": [
              "3"
            ]
          },
          "metadata": {},
          "execution_count": 35
        }
      ],
      "source": [
        "data1[0]\n"
      ]
    },
    {
      "cell_type": "markdown",
      "metadata": {
        "id": "msDNNhptC0Bo"
      },
      "source": [
        "### スライス"
      ]
    },
    {
      "cell_type": "markdown",
      "metadata": {
        "id": "2xAdnzXFC0Bo"
      },
      "source": [
        "複数の要素を取り出すには，スライスを用います"
      ]
    },
    {
      "cell_type": "code",
      "execution_count": 36,
      "metadata": {
        "id": "Ozp5JD3HC0Bo",
        "outputId": "cec45c03-60ce-420c-8b8d-e14f8f67709e",
        "colab": {
          "base_uri": "https://localhost:8080/"
        }
      },
      "outputs": [
        {
          "output_type": "execute_result",
          "data": {
            "text/plain": [
              "[3, 5]"
            ]
          },
          "metadata": {},
          "execution_count": 36
        }
      ],
      "source": [
        "data1[0:2]\n"
      ]
    },
    {
      "cell_type": "code",
      "execution_count": 37,
      "metadata": {
        "id": "u4mE8I7SC0Bo",
        "outputId": "64c29164-75a8-47eb-b1f6-637b4a64f7d6",
        "colab": {
          "base_uri": "https://localhost:8080/"
        }
      },
      "outputs": [
        {
          "output_type": "execute_result",
          "data": {
            "text/plain": [
              "[2, 4]"
            ]
          },
          "metadata": {},
          "execution_count": 37
        }
      ],
      "source": [
        "data1[2:4]\n"
      ]
    },
    {
      "cell_type": "markdown",
      "metadata": {
        "id": "utOxE5poC0Bo"
      },
      "source": [
        "### メソッド"
      ]
    },
    {
      "cell_type": "markdown",
      "metadata": {
        "id": "U1RdgEgWC0Bo"
      },
      "source": [
        "変数には，それを処理する専用の関数（メソッド）が定義されています"
      ]
    },
    {
      "cell_type": "code",
      "execution_count": 38,
      "metadata": {
        "id": "2zBtAAIhC0Bo",
        "outputId": "d3ca8ef0-3ec2-4f5c-c158-437b192db20c",
        "colab": {
          "base_uri": "https://localhost:8080/"
        }
      },
      "outputs": [
        {
          "output_type": "stream",
          "name": "stdout",
          "text": [
            "[3, 5, 2, 4, 6, 1, 8]\n"
          ]
        }
      ],
      "source": [
        "data1 = [3, 5, 2, 4, 6, 1]\n",
        "data1.append(8)\n",
        "print(data1)\n"
      ]
    },
    {
      "cell_type": "code",
      "execution_count": 39,
      "metadata": {
        "id": "VHYdOg2gC0Bo",
        "outputId": "9a7cd41b-df6c-4d67-c52e-55f8ab1b3149",
        "colab": {
          "base_uri": "https://localhost:8080/"
        }
      },
      "outputs": [
        {
          "output_type": "stream",
          "name": "stdout",
          "text": [
            "[8, 3, 5, 2, 4, 6, 1, 8]\n"
          ]
        }
      ],
      "source": [
        "data1.insert(0, 8)\n",
        "print(data1)\n"
      ]
    },
    {
      "cell_type": "code",
      "execution_count": 40,
      "metadata": {
        "id": "eeGSF1yjC0Bp",
        "outputId": "4e539725-f1c6-410a-9d4a-4b940256e01e",
        "colab": {
          "base_uri": "https://localhost:8080/"
        }
      },
      "outputs": [
        {
          "output_type": "stream",
          "name": "stdout",
          "text": [
            "[3, 5, 2, 4, 6, 1, 8]\n"
          ]
        }
      ],
      "source": [
        "del data1[0]\n",
        "print(data1)\n"
      ]
    },
    {
      "cell_type": "code",
      "execution_count": 41,
      "metadata": {
        "id": "dYSsWCEQC0Bp",
        "outputId": "545b665e-b549-4e6e-d717-cc86856bf2f3",
        "colab": {
          "base_uri": "https://localhost:8080/"
        }
      },
      "outputs": [
        {
          "output_type": "stream",
          "name": "stdout",
          "text": [
            "[5, 2, 4, 6, 1, 8]\n"
          ]
        }
      ],
      "source": [
        "data1.pop(0)\n",
        "print(data1)\n"
      ]
    },
    {
      "cell_type": "markdown",
      "metadata": {
        "id": "fP6PJRIGC0Bp"
      },
      "source": [
        "### 浅いコピー深いコピー"
      ]
    },
    {
      "cell_type": "markdown",
      "metadata": {
        "id": "dTsZIQ5EC0Bp"
      },
      "source": [
        "リストのコピーには注意しましょう"
      ]
    },
    {
      "cell_type": "code",
      "execution_count": 42,
      "metadata": {
        "id": "dcN0_R1SC0Bp",
        "outputId": "60c6790b-90bc-4665-9d56-0d577c2b0f95",
        "colab": {
          "base_uri": "https://localhost:8080/"
        }
      },
      "outputs": [
        {
          "output_type": "stream",
          "name": "stdout",
          "text": [
            "[10, 2, 3]\n",
            "[10, 2, 3]\n"
          ]
        }
      ],
      "source": [
        "x = [ 1, 2, 3]\n",
        "y = x\n",
        "y[0] = 10\n",
        "print(y) # [10, 2, 3]と出力される\n",
        "print(x) # xの値も[10, 2, 3]に変更される\n"
      ]
    },
    {
      "cell_type": "code",
      "execution_count": 43,
      "metadata": {
        "id": "lJiVbGkiC0Bp",
        "outputId": "3e9955f8-0ebb-42a4-bd02-e370ee07f4d5",
        "colab": {
          "base_uri": "https://localhost:8080/"
        }
      },
      "outputs": [
        {
          "output_type": "stream",
          "name": "stdout",
          "text": [
            "変数xのアドレスは，135929081635520\n",
            "変数yのアドレスは，135929081635520\n"
          ]
        }
      ],
      "source": [
        "# 変数xと変数yのアドレスが同じ\n",
        "print(f'変数xのアドレスは，{id(x)}')\n",
        "print(f'変数yのアドレスは，{id(y)}')\n"
      ]
    },
    {
      "cell_type": "code",
      "execution_count": 44,
      "metadata": {
        "id": "q_Tsb-Q6C0Bp",
        "outputId": "c081d76f-a479-4878-d6e3-72d83d6bb521",
        "colab": {
          "base_uri": "https://localhost:8080/"
        }
      },
      "outputs": [
        {
          "output_type": "stream",
          "name": "stdout",
          "text": [
            "[10, 2, 3]\n",
            "[1, 2, 3]\n"
          ]
        }
      ],
      "source": [
        "x = [ 1, 2, 3]\n",
        "y = x.copy()\n",
        "y[0] = 10\n",
        "print(y) # [10, 2, 3]と出力される\n",
        "print(x) # xの値は変更されずに[1, 2, 3]と出力される\n"
      ]
    },
    {
      "cell_type": "code",
      "execution_count": 45,
      "metadata": {
        "id": "co8xOF_XC0Bp",
        "outputId": "b9b69b95-0c06-414a-d8e3-1f36967f5c9c",
        "colab": {
          "base_uri": "https://localhost:8080/"
        }
      },
      "outputs": [
        {
          "output_type": "stream",
          "name": "stdout",
          "text": [
            "変数xのアドレスは，135929081635584\n",
            "変数yのアドレスは，135929081636160\n"
          ]
        }
      ],
      "source": [
        "# 変数xと変数yのアドレスが異なる\n",
        "print(f'変数xのアドレスは，{id(x)}')\n",
        "print(f'変数yのアドレスは，{id(y)}')\n"
      ]
    },
    {
      "cell_type": "markdown",
      "metadata": {
        "id": "8gYju1uIC0Bp"
      },
      "source": [
        "## タプル"
      ]
    },
    {
      "cell_type": "markdown",
      "metadata": {
        "id": "IIe6n_Q_C0Bp"
      },
      "source": [
        "タプルは書き換え不可なリストです"
      ]
    },
    {
      "cell_type": "code",
      "execution_count": 46,
      "metadata": {
        "id": "LKk5MktyC0Bp",
        "outputId": "12b6ddba-b2e7-4e0e-8e0c-7f9e091bafcc",
        "colab": {
          "base_uri": "https://localhost:8080/"
        }
      },
      "outputs": [
        {
          "output_type": "stream",
          "name": "stdout",
          "text": [
            "(1, 2, 3, 4)\n",
            "<class 'tuple'>\n"
          ]
        }
      ],
      "source": [
        "tuple = (1,2,3,4) # tuple = 1,2,3,4 でもよい\n",
        "print(tuple)\n",
        "print(type(tuple))\n"
      ]
    },
    {
      "cell_type": "code",
      "execution_count": 47,
      "metadata": {
        "id": "oDu5VLDmC0Bp"
      },
      "outputs": [],
      "source": [
        "# tuple[0] = 5\n"
      ]
    },
    {
      "cell_type": "code",
      "execution_count": 48,
      "metadata": {
        "id": "c1B3l6vFC0Bp",
        "outputId": "1b99d0f0-9aa2-437c-8740-5af4636c37c9",
        "colab": {
          "base_uri": "https://localhost:8080/"
        }
      },
      "outputs": [
        {
          "output_type": "execute_result",
          "data": {
            "text/plain": [
              "[5, 2, 3, 4]"
            ]
          },
          "metadata": {},
          "execution_count": 48
        }
      ],
      "source": [
        "data = [1, 2, 3, 4]\n",
        "data[0] = 5\n",
        "data\n"
      ]
    },
    {
      "cell_type": "markdown",
      "metadata": {
        "id": "gQJa9-_wC0Bp"
      },
      "source": [
        "## 辞書"
      ]
    },
    {
      "cell_type": "markdown",
      "metadata": {
        "id": "0sFpi0RhC0Bp"
      },
      "source": [
        "辞書は，keyとvalueで構成されます"
      ]
    },
    {
      "cell_type": "code",
      "execution_count": 49,
      "metadata": {
        "id": "kgCOSRxGC0Bp"
      },
      "outputs": [],
      "source": [
        "d = { 'linestyle': '-.', 'color': 'k' }\n"
      ]
    },
    {
      "cell_type": "code",
      "execution_count": 50,
      "metadata": {
        "id": "GOGH55oIC0Bp",
        "outputId": "148cb61f-f0d2-4b33-c39d-b7a78b4bfd18",
        "colab": {
          "base_uri": "https://localhost:8080/"
        }
      },
      "outputs": [
        {
          "output_type": "stream",
          "name": "stdout",
          "text": [
            "{'linestyle': '-.', 'color': 'k'}\n",
            "-.\n",
            "k\n"
          ]
        }
      ],
      "source": [
        "print(d)\n",
        "print(d['linestyle'])\n",
        "print(d['color'])\n"
      ]
    },
    {
      "cell_type": "code",
      "execution_count": 51,
      "metadata": {
        "id": "a0okaZlMC0Bp",
        "outputId": "6ea95397-eb44-4cd8-fbbb-fbed1cc72f26",
        "colab": {
          "base_uri": "https://localhost:8080/"
        }
      },
      "outputs": [
        {
          "output_type": "stream",
          "name": "stdout",
          "text": [
            "{'linestyle': '--', 'color': 'k', 'label': 'plt'}\n"
          ]
        }
      ],
      "source": [
        "x = { 'linestyle':'--', 'label':'plt' }\n",
        "d.update(x)\n",
        "print(d)\n"
      ]
    },
    {
      "cell_type": "markdown",
      "metadata": {
        "id": "XT4H1LiVC0Bp"
      },
      "source": [
        "## if文"
      ]
    },
    {
      "cell_type": "markdown",
      "metadata": {
        "id": "dVdk9BBcC0Bp"
      },
      "source": [
        "条件分岐"
      ]
    },
    {
      "cell_type": "code",
      "execution_count": 52,
      "metadata": {
        "id": "XaowHycjC0Bp",
        "outputId": "da6c177e-288b-4997-c4d1-0321616f6711",
        "colab": {
          "base_uri": "https://localhost:8080/"
        }
      },
      "outputs": [
        {
          "output_type": "stream",
          "name": "stdout",
          "text": [
            "x is positive\n"
          ]
        }
      ],
      "source": [
        "x = 1\n",
        "\n",
        "if x < 0:\n",
        "    print('x is negative')\n",
        "elif x == 0:\n",
        "    print('x is zero')\n",
        "else:\n",
        "    print('x is positive')\n"
      ]
    },
    {
      "cell_type": "code",
      "execution_count": 53,
      "metadata": {
        "id": "EdqHGl-JC0Bp",
        "outputId": "b966d994-8bc7-4e90-c25e-e7da9657a498",
        "colab": {
          "base_uri": "https://localhost:8080/"
        }
      },
      "outputs": [
        {
          "output_type": "stream",
          "name": "stdout",
          "text": [
            "x and y are negative\n"
          ]
        }
      ],
      "source": [
        "x ,y = -1, -1\n",
        "\n",
        "if x < 0 and y < 0:\n",
        "    print('x and y are negative')\n"
      ]
    },
    {
      "cell_type": "code",
      "execution_count": 54,
      "metadata": {
        "id": "x9UOnOGVC0Bq",
        "outputId": "9d698a5a-ecc3-40ad-96eb-15e08dcedbd1",
        "colab": {
          "base_uri": "https://localhost:8080/"
        }
      },
      "outputs": [
        {
          "output_type": "stream",
          "name": "stdout",
          "text": [
            "x or y is negative\n"
          ]
        }
      ],
      "source": [
        "x, y = 1, -1\n",
        "\n",
        "if x < 0 or y < 0:\n",
        "    print('x or y is negative')\n"
      ]
    },
    {
      "cell_type": "code",
      "execution_count": 55,
      "metadata": {
        "id": "4rriqe1uC0Bq",
        "outputId": "ca99e006-ce59-4278-bb91-cf51fe78f27f",
        "colab": {
          "base_uri": "https://localhost:8080/"
        }
      },
      "outputs": [
        {
          "output_type": "stream",
          "name": "stdout",
          "text": [
            "x is in y\n"
          ]
        }
      ],
      "source": [
        "x = 2\n",
        "y = [1, 2, 3]\n",
        "\n",
        "if x in y:\n",
        "    print('x is in y')\n"
      ]
    },
    {
      "cell_type": "code",
      "execution_count": 56,
      "metadata": {
        "id": "fQNwdlB6C0Bq",
        "outputId": "e9227236-3076-49f0-cfa3-843c353c3cbe",
        "colab": {
          "base_uri": "https://localhost:8080/"
        }
      },
      "outputs": [
        {
          "output_type": "stream",
          "name": "stdout",
          "text": [
            "x is not in y\n"
          ]
        }
      ],
      "source": [
        "x = 0\n",
        "y = [1, 2, 3]\n",
        "\n",
        "if x not in y:\n",
        "    print('x is not in y')\n"
      ]
    },
    {
      "cell_type": "markdown",
      "metadata": {
        "id": "md_92ZTIC0Bq"
      },
      "source": [
        "## for文"
      ]
    },
    {
      "cell_type": "markdown",
      "metadata": {
        "id": "pxq2FQW-C0Bq"
      },
      "source": [
        "繰り返し処理"
      ]
    },
    {
      "cell_type": "code",
      "execution_count": 57,
      "metadata": {
        "id": "p3jrIv3pC0Bq",
        "outputId": "9956c91e-4c0b-45fa-b65a-c49aab2ade03",
        "colab": {
          "base_uri": "https://localhost:8080/"
        }
      },
      "outputs": [
        {
          "output_type": "stream",
          "name": "stdout",
          "text": [
            "0\n",
            "1\n",
            "2\n"
          ]
        }
      ],
      "source": [
        "for x in [0, 1, 2]:\n",
        "    print(x)\n"
      ]
    },
    {
      "cell_type": "markdown",
      "metadata": {
        "id": "bw3y-HMXC0Bq"
      },
      "source": [
        "rangeを用いるとリストを作ることができます"
      ]
    },
    {
      "cell_type": "code",
      "execution_count": 58,
      "metadata": {
        "id": "qwWyrI-yC0Bq",
        "outputId": "de9e1957-b488-4fb9-98db-6d50b425d5b9",
        "colab": {
          "base_uri": "https://localhost:8080/"
        }
      },
      "outputs": [
        {
          "output_type": "stream",
          "name": "stdout",
          "text": [
            "0\n",
            "1\n",
            "2\n"
          ]
        }
      ],
      "source": [
        "for x in range(0, 3):\n",
        "    print(x)\n"
      ]
    },
    {
      "cell_type": "code",
      "execution_count": 59,
      "metadata": {
        "id": "uRkk5YDQC0Bq",
        "outputId": "efdde6b3-1a11-42f8-8a83-c0767fbddf0e",
        "colab": {
          "base_uri": "https://localhost:8080/"
        }
      },
      "outputs": [
        {
          "output_type": "stream",
          "name": "stdout",
          "text": [
            "0 a\n",
            "1 b\n",
            "2 c\n"
          ]
        }
      ],
      "source": [
        "for i, word in enumerate(['a', 'b', 'c']):\n",
        "    print(i, word)\n"
      ]
    },
    {
      "cell_type": "markdown",
      "metadata": {
        "id": "z_C0tBtcC0Bq"
      },
      "source": [
        "## 練習問題"
      ]
    },
    {
      "cell_type": "code",
      "execution_count": 60,
      "metadata": {
        "id": "7Emlu0cNC0Bq",
        "outputId": "8ccb8a3a-ad69-4f68-b705-96f144e4ac0c",
        "colab": {
          "base_uri": "https://localhost:8080/"
        }
      },
      "outputs": [
        {
          "output_type": "stream",
          "name": "stdout",
          "text": [
            "0\n",
            "python\n",
            "1\n",
            "python\n",
            "2\n",
            "python\n"
          ]
        }
      ],
      "source": [
        "# プログラム1\n",
        "for x in range(3):\n",
        "    print(x)\n",
        "    print('python')\n"
      ]
    },
    {
      "cell_type": "code",
      "execution_count": 61,
      "metadata": {
        "id": "gzovRQBDC0Bq",
        "outputId": "3dd0b5a6-7911-4f69-9bd0-f75c5e23199c",
        "colab": {
          "base_uri": "https://localhost:8080/"
        }
      },
      "outputs": [
        {
          "output_type": "stream",
          "name": "stdout",
          "text": [
            "0\n",
            "1\n",
            "2\n",
            "python\n"
          ]
        }
      ],
      "source": [
        "# プログラム2\n",
        "for x in range(3):\n",
        "    print(x)\n",
        "print('python')\n"
      ]
    },
    {
      "cell_type": "markdown",
      "metadata": {
        "id": "ObFXjPTKC0Bq"
      },
      "source": [
        "## 関数定義"
      ]
    },
    {
      "cell_type": "markdown",
      "metadata": {
        "id": "t7aMUFsVC0Bq"
      },
      "source": [
        "関数の定義は，def を用います"
      ]
    },
    {
      "cell_type": "code",
      "execution_count": 62,
      "metadata": {
        "id": "d9JLHXJRC0Bq"
      },
      "outputs": [],
      "source": [
        "def say_hello():\n",
        "    print('こんにちは')\n"
      ]
    },
    {
      "cell_type": "markdown",
      "metadata": {
        "id": "LLtbgx5oC0Bq"
      },
      "source": [
        "定義した関数は，他の場所で使うことができます"
      ]
    },
    {
      "cell_type": "code",
      "execution_count": 63,
      "metadata": {
        "id": "y3XuoG45C0Bq",
        "outputId": "cb5bb70d-1b09-4f70-98aa-8844e58ebfbc",
        "colab": {
          "base_uri": "https://localhost:8080/"
        }
      },
      "outputs": [
        {
          "output_type": "stream",
          "name": "stdout",
          "text": [
            "こんにちは\n"
          ]
        }
      ],
      "source": [
        "say_hello()\n"
      ]
    },
    {
      "cell_type": "markdown",
      "metadata": {
        "id": "o2ivcoQMC0Bq"
      },
      "source": [
        "入力（引数）のある関数"
      ]
    },
    {
      "cell_type": "code",
      "execution_count": 64,
      "metadata": {
        "id": "6qPU5kWpC0Bq"
      },
      "outputs": [],
      "source": [
        "def subject(name):\n",
        "    print(name + '工学')\n"
      ]
    },
    {
      "cell_type": "code",
      "execution_count": 65,
      "metadata": {
        "id": "-e0nuX9HC0Bq",
        "outputId": "7893714b-3171-4383-ab65-7466076f34df",
        "colab": {
          "base_uri": "https://localhost:8080/"
        }
      },
      "outputs": [
        {
          "output_type": "stream",
          "name": "stdout",
          "text": [
            "制御工学\n"
          ]
        }
      ],
      "source": [
        "subject('制御')\n"
      ]
    },
    {
      "cell_type": "markdown",
      "metadata": {
        "id": "BVlst4bjC0Bq"
      },
      "source": [
        "出力（返り値）のある関数"
      ]
    },
    {
      "cell_type": "code",
      "execution_count": 66,
      "metadata": {
        "id": "k8It9M90C0Bq"
      },
      "outputs": [],
      "source": [
        "def add(a, b):\n",
        "    c = a + b\n",
        "    return c\n"
      ]
    },
    {
      "cell_type": "code",
      "execution_count": 67,
      "metadata": {
        "id": "PVBNlCFHC0Bq",
        "outputId": "7e7dde9b-4ffa-405c-995c-d5a15152a055",
        "colab": {
          "base_uri": "https://localhost:8080/"
        }
      },
      "outputs": [
        {
          "output_type": "stream",
          "name": "stdout",
          "text": [
            "8\n"
          ]
        }
      ],
      "source": [
        "result = add(3, 5)\n",
        "print(result)\n"
      ]
    },
    {
      "cell_type": "code",
      "execution_count": 68,
      "metadata": {
        "id": "16K9HPOWC0Bq"
      },
      "outputs": [],
      "source": [
        "def add(*args):\n",
        "    return args[0] + args[1]\n"
      ]
    },
    {
      "cell_type": "code",
      "execution_count": 69,
      "metadata": {
        "id": "7Cx2tgAEC0Bq",
        "outputId": "5b92d34f-92c4-4c5c-cc86-0b63fedbae51",
        "colab": {
          "base_uri": "https://localhost:8080/"
        }
      },
      "outputs": [
        {
          "output_type": "stream",
          "name": "stdout",
          "text": [
            "8\n"
          ]
        }
      ],
      "source": [
        "value = [3, 5]\n",
        "result = add(*value)\n",
        "print(result)\n"
      ]
    },
    {
      "cell_type": "markdown",
      "metadata": {
        "id": "Y6T0ct-sC0Bq"
      },
      "source": [
        "## クロージャ"
      ]
    },
    {
      "cell_type": "markdown",
      "metadata": {
        "id": "58jCiAHCC0Br"
      },
      "source": [
        "外側の関数の引数を内側の関数が利用し，そして，外側の関数の返り値が内側の関数となるとき，内側の関数をクロージャーといいます"
      ]
    },
    {
      "cell_type": "code",
      "execution_count": 70,
      "metadata": {
        "id": "F4QPmDicC0Br"
      },
      "outputs": [],
      "source": [
        "def outer(a, b):\n",
        "    def inner(c):\n",
        "        return c * (a + b)\n",
        "    return inner\n"
      ]
    },
    {
      "cell_type": "markdown",
      "metadata": {
        "id": "OV5E6UBvC0Br"
      },
      "source": [
        "outerの返り値がinnerになっています\n",
        "\n",
        "a=1, b=1 としたinner関数をfとし，そのfに3を代入した結果を求めます"
      ]
    },
    {
      "cell_type": "code",
      "execution_count": 71,
      "metadata": {
        "id": "PwdIC8edC0Br",
        "outputId": "e99c96dd-8935-45a8-b91a-9dfe2eb82d93",
        "colab": {
          "base_uri": "https://localhost:8080/"
        }
      },
      "outputs": [
        {
          "output_type": "stream",
          "name": "stdout",
          "text": [
            "9\n"
          ]
        }
      ],
      "source": [
        "f = outer(1, 2)\n",
        "r = f(3)\n",
        "print(r)\n"
      ]
    },
    {
      "cell_type": "markdown",
      "metadata": {
        "id": "ZY-UOePiC0Br"
      },
      "source": [
        "a=3, b=4 としたinner関数をf2とし，そのfに3を代入した結果を求めます"
      ]
    },
    {
      "cell_type": "code",
      "execution_count": 72,
      "metadata": {
        "id": "MT2IvoCDC0Br",
        "outputId": "e1fe6892-b1e4-4143-a002-845968f5a7f5",
        "colab": {
          "base_uri": "https://localhost:8080/"
        }
      },
      "outputs": [
        {
          "output_type": "stream",
          "name": "stdout",
          "text": [
            "21\n"
          ]
        }
      ],
      "source": [
        "f2 = outer(3, 4)\n",
        "r2 = f2(3)\n",
        "print(r2)\n"
      ]
    },
    {
      "cell_type": "markdown",
      "metadata": {
        "id": "fMklneawC0Br"
      },
      "source": [
        "## ラムダ式（無名関数）"
      ]
    },
    {
      "cell_type": "markdown",
      "metadata": {
        "id": "AzgqTyTtC0Br"
      },
      "source": [
        "名前を付けずに，関数を定義することができます"
      ]
    },
    {
      "cell_type": "code",
      "execution_count": 73,
      "metadata": {
        "id": "g3qQav3TC0Br",
        "outputId": "4295bd73-ab88-4d68-f331-a4da9d4ab615",
        "colab": {
          "base_uri": "https://localhost:8080/"
        }
      },
      "outputs": [
        {
          "output_type": "stream",
          "name": "stdout",
          "text": [
            "14.0\n"
          ]
        }
      ],
      "source": [
        "c = (lambda a, b: 2*a + 3*b)(1.0, 4.0)\n",
        "print(c)\n"
      ]
    },
    {
      "cell_type": "markdown",
      "metadata": {
        "id": "8dEnyBHdC0Br"
      },
      "source": [
        "map関数を使って，リストを処理します"
      ]
    },
    {
      "cell_type": "code",
      "execution_count": 74,
      "metadata": {
        "id": "1rxMKeoOC0Br",
        "outputId": "e0fa8b56-ef7a-4eb0-bee9-36bb36b80ab6",
        "colab": {
          "base_uri": "https://localhost:8080/"
        }
      },
      "outputs": [
        {
          "output_type": "stream",
          "name": "stdout",
          "text": [
            "[32, 31, 30, 29, 28]\n"
          ]
        }
      ],
      "source": [
        "data1 = [1, 2, 3, 4, 5]\n",
        "data2 = [10, 9, 8, 7, 6]\n",
        "result = list(map(lambda a, b:2*a + 3*b, data1, data2))\n",
        "print(result)\n"
      ]
    },
    {
      "cell_type": "markdown",
      "metadata": {
        "id": "r2MjXMDdC0Br"
      },
      "source": [
        "高階関数"
      ]
    },
    {
      "cell_type": "code",
      "execution_count": 75,
      "metadata": {
        "tags": [],
        "id": "JGsfqkVnC0Br",
        "outputId": "5d7b01f8-c84b-481c-a918-d070756483e0",
        "colab": {
          "base_uri": "https://localhost:8080/"
        }
      },
      "outputs": [
        {
          "output_type": "stream",
          "name": "stdout",
          "text": [
            "26.0\n"
          ]
        }
      ],
      "source": [
        "xd = 2.0\n",
        "y = (lambda x: x**3 + 2*x**2 + 3*x + 4)(xd)\n",
        "print(y)\n"
      ]
    },
    {
      "cell_type": "code",
      "execution_count": 76,
      "metadata": {
        "tags": [],
        "id": "1OhsY9CnC0Br",
        "outputId": "e604367f-db13-4f77-aa2e-87da50ed91f8",
        "colab": {
          "base_uri": "https://localhost:8080/"
        }
      },
      "outputs": [
        {
          "output_type": "stream",
          "name": "stdout",
          "text": [
            "１階微分：23.000080000201702\n",
            "２階微分：16.000072378119512\n"
          ]
        }
      ],
      "source": [
        "f = (lambda x: x**3 + 2*x**2 + 3*x + 4)\n",
        "dx = 0.00001\n",
        "d = lambda f:(lambda x:(f(x+dx)-f(x))/dx)\n",
        "print(f'１階微分：{d(f)(xd)}')\n",
        "print(f'２階微分：{d(d(f))(xd)}')\n"
      ]
    },
    {
      "cell_type": "markdown",
      "metadata": {
        "id": "fyn4ehY6C0Br"
      },
      "source": [
        "関数を再利用して，複数回同じ処理を施すことができます"
      ]
    },
    {
      "cell_type": "code",
      "execution_count": 77,
      "metadata": {
        "id": "agZX15NOC0Br",
        "outputId": "ff9bbbf9-8452-409b-d4a9-b93c83cd6fca",
        "colab": {
          "base_uri": "https://localhost:8080/"
        }
      },
      "outputs": [
        {
          "output_type": "stream",
          "name": "stdout",
          "text": [
            "3.0\n"
          ]
        }
      ],
      "source": [
        "y = (lambda x: x**2 + x + 1)(1.0)\n",
        "print(y)\n"
      ]
    },
    {
      "cell_type": "code",
      "execution_count": 78,
      "metadata": {
        "id": "RFFoZ8hTC0Br"
      },
      "outputs": [],
      "source": [
        "f = lambda x: x**2 + x + 1\n",
        "g = lambda f:(lambda x:(2 * f(x)))\n"
      ]
    },
    {
      "cell_type": "code",
      "execution_count": 79,
      "metadata": {
        "id": "tr03zaL1C0Br",
        "outputId": "7b92802e-16ad-4ead-e138-25e6460d55f9",
        "colab": {
          "base_uri": "https://localhost:8080/"
        }
      },
      "outputs": [
        {
          "output_type": "execute_result",
          "data": {
            "text/plain": [
              "6.0"
            ]
          },
          "metadata": {},
          "execution_count": 79
        }
      ],
      "source": [
        "g(f)(1.0)\n"
      ]
    },
    {
      "cell_type": "code",
      "execution_count": 80,
      "metadata": {
        "id": "WWMcbwvzC0Br",
        "outputId": "828e7b27-e64e-48c3-fb35-c807d7acd646",
        "colab": {
          "base_uri": "https://localhost:8080/"
        }
      },
      "outputs": [
        {
          "output_type": "execute_result",
          "data": {
            "text/plain": [
              "12.0"
            ]
          },
          "metadata": {},
          "execution_count": 80
        }
      ],
      "source": [
        "g(g(f))(1.0)\n"
      ]
    },
    {
      "cell_type": "code",
      "execution_count": 81,
      "metadata": {
        "id": "c34O69F4C0Br",
        "outputId": "4eafc0c3-2168-4948-cef8-48328051bf22",
        "colab": {
          "base_uri": "https://localhost:8080/"
        }
      },
      "outputs": [
        {
          "output_type": "execute_result",
          "data": {
            "text/plain": [
              "24.0"
            ]
          },
          "metadata": {},
          "execution_count": 81
        }
      ],
      "source": [
        "g(g(g(f)))(1.0)\n"
      ]
    },
    {
      "cell_type": "markdown",
      "metadata": {
        "id": "n7NdXRFtC0Br"
      },
      "source": [
        "## ジェネレータ"
      ]
    },
    {
      "cell_type": "markdown",
      "metadata": {
        "id": "Ns4qr2jZC0Br"
      },
      "source": [
        "関数をnextで呼び出すことで，yeildに記載した処理を一つずつ進めることができます"
      ]
    },
    {
      "cell_type": "code",
      "execution_count": 82,
      "metadata": {
        "id": "EMIMNrrcC0Br"
      },
      "outputs": [],
      "source": [
        "def linestyle_generator():\n",
        "    linestyle = ['-', '--', '-.', ':']\n",
        "    lineID = 0\n",
        "    while True:\n",
        "        yield linestyle[lineID]\n",
        "        lineID = (lineID + 1) % len(linestyle)\n"
      ]
    },
    {
      "cell_type": "code",
      "execution_count": 83,
      "metadata": {
        "id": "S5cUdekEC0Br",
        "outputId": "7059efe7-ca3f-4c77-9334-bc120e5844b5",
        "colab": {
          "base_uri": "https://localhost:8080/"
        }
      },
      "outputs": [
        {
          "output_type": "stream",
          "name": "stdout",
          "text": [
            "-\n",
            "--\n",
            "-.\n",
            ":\n",
            "-\n"
          ]
        }
      ],
      "source": [
        "LS = linestyle_generator()\n",
        "for i in range(5):\n",
        "    print(next(LS)) # LSの中の yield 部分を1回ずつ実行\n"
      ]
    },
    {
      "cell_type": "markdown",
      "metadata": {
        "id": "C-mN5qDOC0Br"
      },
      "source": [
        "## リスト内包表記"
      ]
    },
    {
      "cell_type": "code",
      "execution_count": 84,
      "metadata": {
        "id": "Gv50ZYAhC0Br",
        "outputId": "130bfad0-05ad-4efb-9843-8b4c9e2bb044",
        "colab": {
          "base_uri": "https://localhost:8080/"
        }
      },
      "outputs": [
        {
          "output_type": "stream",
          "name": "stdout",
          "text": [
            "[1, 2, 3, 4, 5]\n"
          ]
        }
      ],
      "source": [
        "t = (1, 2, 3, 4, 5)\n",
        "r1 = [i for i in t]\n",
        "print(r1)\n"
      ]
    },
    {
      "cell_type": "code",
      "execution_count": 85,
      "metadata": {
        "id": "1vnprERHC0Bs",
        "outputId": "1cf28d9a-842a-4fc2-beff-41acb635cda2",
        "colab": {
          "base_uri": "https://localhost:8080/"
        }
      },
      "outputs": [
        {
          "output_type": "stream",
          "name": "stdout",
          "text": [
            "[2, 4]\n"
          ]
        }
      ],
      "source": [
        "r2 = [i for i in t if i % 2 == 0]\n",
        "print(r2)\n"
      ]
    },
    {
      "cell_type": "markdown",
      "metadata": {
        "id": "2GR59NrCC0Bs"
      },
      "source": [
        "## 練習問題"
      ]
    },
    {
      "cell_type": "code",
      "execution_count": 86,
      "metadata": {
        "id": "QUTxh6fsC0Bs",
        "outputId": "6046212d-d337-4cbb-c136-b6409456af3d",
        "colab": {
          "base_uri": "https://localhost:8080/"
        }
      },
      "outputs": [
        {
          "output_type": "stream",
          "name": "stdout",
          "text": [
            "35.70714214271425\n",
            "35.70714214271425\n",
            "35.70714214271425\n"
          ]
        }
      ],
      "source": [
        "from numpy import sqrt\n",
        "\n",
        "# for文を使って足し合わせる\n",
        "\n",
        "s=0\n",
        "for x in range(1,51):\n",
        "    s += x\n",
        "print(sqrt(s))\n",
        "\n",
        "# sumを使う\n",
        "s = sum(range(1,51))\n",
        "print(sqrt(s))\n",
        "\n",
        "# generator式を使う\n",
        "s = sum(x for x in range(1,51))\n",
        "print(sqrt(s))\n"
      ]
    },
    {
      "cell_type": "markdown",
      "metadata": {
        "id": "hiPVAZ9CC0Bs"
      },
      "source": [
        "## ライブラリ"
      ]
    },
    {
      "cell_type": "markdown",
      "metadata": {
        "id": "cUd_Fp-TC0Bs"
      },
      "source": [
        "ライブラリの読み込み方法"
      ]
    },
    {
      "cell_type": "code",
      "execution_count": 87,
      "metadata": {
        "id": "Y1qKJgtQC0Bs"
      },
      "outputs": [],
      "source": [
        "import numpy\n"
      ]
    },
    {
      "cell_type": "markdown",
      "metadata": {
        "id": "RJ3C3cFjC0Bs"
      },
      "source": [
        "numpyライブラリをnpという名前で読み込みます"
      ]
    },
    {
      "cell_type": "code",
      "execution_count": 88,
      "metadata": {
        "id": "PvgR1i1zC0Bs"
      },
      "outputs": [],
      "source": [
        "import numpy as np\n"
      ]
    },
    {
      "cell_type": "markdown",
      "metadata": {
        "id": "NgIAcQCJC0Bs"
      },
      "source": [
        "numpyのsqrt関数のみを読み込みます"
      ]
    },
    {
      "cell_type": "code",
      "execution_count": 89,
      "metadata": {
        "id": "qf8Ny-3CC0Bs"
      },
      "outputs": [],
      "source": [
        "from numpy import sqrt\n"
      ]
    },
    {
      "cell_type": "markdown",
      "metadata": {
        "id": "NTIERPZCC0Bs"
      },
      "source": [
        "ワイルドカード（*）を使うとすべての関数が読み込めます（非推奨）"
      ]
    },
    {
      "cell_type": "code",
      "execution_count": 90,
      "metadata": {
        "id": "-AB8TcgSC0Bs"
      },
      "outputs": [],
      "source": [
        "from numpy.linalg import *\n"
      ]
    },
    {
      "cell_type": "markdown",
      "metadata": {
        "id": "5yBQDlOsC0Bs"
      },
      "source": [
        "### 標準ライブラリ"
      ]
    },
    {
      "cell_type": "code",
      "execution_count": 91,
      "metadata": {
        "id": "ay4yUKTcC0Bs"
      },
      "outputs": [],
      "source": [
        "import math\n"
      ]
    },
    {
      "cell_type": "code",
      "execution_count": 92,
      "metadata": {
        "id": "JDitBRcQC0Bs",
        "outputId": "6e8e206c-937e-46d9-88e9-02687d4957f7",
        "colab": {
          "base_uri": "https://localhost:8080/"
        }
      },
      "outputs": [
        {
          "output_type": "execute_result",
          "data": {
            "text/plain": [
              "0.479425538604203"
            ]
          },
          "metadata": {},
          "execution_count": 92
        }
      ],
      "source": [
        "math.sin(0.5)\n"
      ]
    },
    {
      "cell_type": "code",
      "execution_count": 93,
      "metadata": {
        "id": "6YnGwDsZC0Bs",
        "outputId": "44b10a2f-a09e-4ab8-9c12-ebd7c27a4fea",
        "colab": {
          "base_uri": "https://localhost:8080/"
        }
      },
      "outputs": [
        {
          "output_type": "execute_result",
          "data": {
            "text/plain": [
              "0.3010299956639812"
            ]
          },
          "metadata": {},
          "execution_count": 93
        }
      ],
      "source": [
        "math.log10(2)\n"
      ]
    },
    {
      "cell_type": "code",
      "execution_count": 94,
      "metadata": {
        "id": "BB6K8rwHC0Bs",
        "outputId": "baa8df75-4400-4e42-e138-2dae1d41021a",
        "colab": {
          "base_uri": "https://localhost:8080/"
        }
      },
      "outputs": [
        {
          "output_type": "execute_result",
          "data": {
            "text/plain": [
              "0.6931471805599453"
            ]
          },
          "metadata": {},
          "execution_count": 94
        }
      ],
      "source": [
        "math.log(2)\n"
      ]
    },
    {
      "cell_type": "code",
      "execution_count": 95,
      "metadata": {
        "id": "Qcshxf4rC0Bs",
        "outputId": "5715be59-5dc7-47df-b3cc-24e9c26ba4f1",
        "colab": {
          "base_uri": "https://localhost:8080/"
        }
      },
      "outputs": [
        {
          "output_type": "execute_result",
          "data": {
            "text/plain": [
              "2.718281828459045"
            ]
          },
          "metadata": {},
          "execution_count": 95
        }
      ],
      "source": [
        "math.e\n"
      ]
    },
    {
      "cell_type": "code",
      "execution_count": 96,
      "metadata": {
        "id": "8GtU0OVVC0Bs",
        "outputId": "b2acc5a2-a60f-4e45-9f0f-c8fcac8dd22b",
        "colab": {
          "base_uri": "https://localhost:8080/"
        }
      },
      "outputs": [
        {
          "output_type": "execute_result",
          "data": {
            "text/plain": [
              "3.141592653589793"
            ]
          },
          "metadata": {},
          "execution_count": 96
        }
      ],
      "source": [
        "math.pi\n"
      ]
    },
    {
      "cell_type": "markdown",
      "metadata": {
        "id": "KHosvh6AC0Bs"
      },
      "source": [
        "桁数が物足りない場合は，sympyを使う。"
      ]
    },
    {
      "cell_type": "code",
      "execution_count": 97,
      "metadata": {
        "id": "TQ6mNvc1C0Bs",
        "outputId": "c01d3242-53ba-41a0-ea16-d23a4cf2524b",
        "colab": {
          "base_uri": "https://localhost:8080/",
          "height": 37
        }
      },
      "outputs": [
        {
          "output_type": "execute_result",
          "data": {
            "text/plain": [
              "3.141592653589793238462643383279502884197169399375105820974944592307816406286208998628034825342117068"
            ],
            "text/latex": "$\\displaystyle 3.141592653589793238462643383279502884197169399375105820974944592307816406286208998628034825342117068$"
          },
          "metadata": {},
          "execution_count": 97
        }
      ],
      "source": [
        "import sympy\n",
        "sympy.pi.evalf(100)\n"
      ]
    },
    {
      "cell_type": "markdown",
      "metadata": {
        "id": "kM2JVte7C0Bs"
      },
      "source": [
        "### NumPy"
      ]
    },
    {
      "cell_type": "code",
      "execution_count": 98,
      "metadata": {
        "id": "MinvAL2BC0Bs"
      },
      "outputs": [],
      "source": [
        "import numpy as np\n"
      ]
    },
    {
      "cell_type": "markdown",
      "metadata": {
        "id": "YgCnV9eYC0Bs"
      },
      "source": [
        "ベクトルの定義"
      ]
    },
    {
      "cell_type": "code",
      "execution_count": 99,
      "metadata": {
        "id": "MliYTVyHC0Bs",
        "outputId": "c56f1c02-cbe1-47e5-d97a-a34921f995bf",
        "colab": {
          "base_uri": "https://localhost:8080/"
        }
      },
      "outputs": [
        {
          "output_type": "stream",
          "name": "stdout",
          "text": [
            "[1 2]\n",
            "2\n"
          ]
        }
      ],
      "source": [
        "x = np.array([1, 2])\n",
        "print(x)\n",
        "print(len(x))\n"
      ]
    },
    {
      "cell_type": "code",
      "execution_count": 100,
      "metadata": {
        "id": "g5cck7rgC0Bs",
        "outputId": "2a4432bb-e66a-4d31-b220-5ec625a7372e",
        "colab": {
          "base_uri": "https://localhost:8080/"
        }
      },
      "outputs": [
        {
          "output_type": "stream",
          "name": "stdout",
          "text": [
            "[[1 2]]\n",
            "1\n"
          ]
        }
      ],
      "source": [
        "x = np.array([ [1, 2]]) # 横ベクトル\n",
        "print(x)\n",
        "print(len(x))\n"
      ]
    },
    {
      "cell_type": "code",
      "execution_count": 101,
      "metadata": {
        "id": "oplKF_zQC0Bt",
        "outputId": "5d6df288-485b-4683-9ad7-086ea4cdf66f",
        "colab": {
          "base_uri": "https://localhost:8080/"
        }
      },
      "outputs": [
        {
          "output_type": "stream",
          "name": "stdout",
          "text": [
            "[[1]\n",
            " [2]]\n",
            "2\n"
          ]
        }
      ],
      "source": [
        "x = np.array([[1], [2]]) # 縦ベクトル\n",
        "print(x)\n",
        "print(len(x))\n"
      ]
    },
    {
      "cell_type": "markdown",
      "metadata": {
        "id": "LZqcXqr4C0Bt"
      },
      "source": [
        "行列の定義"
      ]
    },
    {
      "cell_type": "code",
      "execution_count": 102,
      "metadata": {
        "id": "oDBUYimTC0Bt",
        "outputId": "2c9768a5-f604-4d7c-d07b-680a25e8709e",
        "colab": {
          "base_uri": "https://localhost:8080/"
        }
      },
      "outputs": [
        {
          "output_type": "stream",
          "name": "stdout",
          "text": [
            "[[ 1  2]\n",
            " [-3  4]]\n"
          ]
        }
      ],
      "source": [
        "A = np.array([ [1, 2], [-3, 4]])\n",
        "print(A)\n"
      ]
    },
    {
      "cell_type": "markdown",
      "metadata": {
        "id": "hTVWZvosC0Bt"
      },
      "source": [
        "単位行列，零行列，対角行列"
      ]
    },
    {
      "cell_type": "code",
      "execution_count": 103,
      "metadata": {
        "id": "pOs30VoWC0Bt",
        "outputId": "b772f3a5-f1a8-418e-e799-83520dafb7aa",
        "colab": {
          "base_uri": "https://localhost:8080/"
        }
      },
      "outputs": [
        {
          "output_type": "execute_result",
          "data": {
            "text/plain": [
              "array([[1., 0., 0.],\n",
              "       [0., 1., 0.],\n",
              "       [0., 0., 1.]])"
            ]
          },
          "metadata": {},
          "execution_count": 103
        }
      ],
      "source": [
        "np.eye(3)\n"
      ]
    },
    {
      "cell_type": "code",
      "execution_count": 104,
      "metadata": {
        "id": "pFiMokzUC0Bt",
        "outputId": "e7021eb5-47bc-4478-9893-7344e5607e50",
        "colab": {
          "base_uri": "https://localhost:8080/"
        }
      },
      "outputs": [
        {
          "output_type": "execute_result",
          "data": {
            "text/plain": [
              "array([[0., 0.],\n",
              "       [0., 0.],\n",
              "       [0., 0.]])"
            ]
          },
          "metadata": {},
          "execution_count": 104
        }
      ],
      "source": [
        "np.zeros([3,2])\n"
      ]
    },
    {
      "cell_type": "code",
      "execution_count": 105,
      "metadata": {
        "id": "_9JAGGGqC0Bt",
        "outputId": "e7a6d88b-9377-4a8e-b0d4-3841a5636b8d",
        "colab": {
          "base_uri": "https://localhost:8080/"
        }
      },
      "outputs": [
        {
          "output_type": "execute_result",
          "data": {
            "text/plain": [
              "array([[1, 0, 0],\n",
              "       [0, 2, 0],\n",
              "       [0, 0, 3]])"
            ]
          },
          "metadata": {},
          "execution_count": 105
        }
      ],
      "source": [
        "np.diag([1,2,3])\n"
      ]
    },
    {
      "cell_type": "markdown",
      "metadata": {
        "id": "aLqZR2g4C0Bt"
      },
      "source": [
        "行列の計算"
      ]
    },
    {
      "cell_type": "code",
      "execution_count": 106,
      "metadata": {
        "id": "CUov_h34C0Bt",
        "outputId": "1e5fa5c0-2380-4a37-b465-b7a81a65416b",
        "colab": {
          "base_uri": "https://localhost:8080/"
        }
      },
      "outputs": [
        {
          "output_type": "execute_result",
          "data": {
            "text/plain": [
              "array([[ 6,  8],\n",
              "       [ 4, 12]])"
            ]
          },
          "metadata": {},
          "execution_count": 106
        }
      ],
      "source": [
        "A = np.array([ [1, 2], [-3, 4]])\n",
        "B = np.array( [[5, 6], [7, 8]] )\n",
        "\n",
        "A+B # 要素ごとの足し算\n"
      ]
    },
    {
      "cell_type": "code",
      "execution_count": 107,
      "metadata": {
        "id": "T9LpLL1kC0Bt",
        "outputId": "8d091cee-16fb-405e-d0fd-baa0ea3e306c",
        "colab": {
          "base_uri": "https://localhost:8080/"
        }
      },
      "outputs": [
        {
          "output_type": "execute_result",
          "data": {
            "text/plain": [
              "array([[  5,  12],\n",
              "       [-21,  32]])"
            ]
          },
          "metadata": {},
          "execution_count": 107
        }
      ],
      "source": [
        "A*B # 要素ごとの掛け算\n"
      ]
    },
    {
      "cell_type": "code",
      "execution_count": 108,
      "metadata": {
        "id": "XDxQhzo-C0Bt",
        "outputId": "6af7df07-509f-4f0b-f0d4-a8029a72fe38",
        "colab": {
          "base_uri": "https://localhost:8080/"
        }
      },
      "outputs": [
        {
          "output_type": "execute_result",
          "data": {
            "text/plain": [
              "array([[19, 22],\n",
              "       [13, 14]])"
            ]
          },
          "metadata": {},
          "execution_count": 108
        }
      ],
      "source": [
        "A@B # 行列の掛け算\n"
      ]
    },
    {
      "cell_type": "markdown",
      "metadata": {
        "id": "APOi9NvPC0Bt"
      },
      "source": [
        "転置"
      ]
    },
    {
      "cell_type": "code",
      "execution_count": 109,
      "metadata": {
        "id": "fi1qOGcHC0Bt",
        "outputId": "89e56125-7dc0-445e-84c5-1cd2a6ce2983",
        "colab": {
          "base_uri": "https://localhost:8080/"
        }
      },
      "outputs": [
        {
          "output_type": "stream",
          "name": "stdout",
          "text": [
            "[[ 1 -3]\n",
            " [ 2  4]]\n"
          ]
        }
      ],
      "source": [
        "print(A.T)\n"
      ]
    },
    {
      "cell_type": "code",
      "execution_count": 110,
      "metadata": {
        "id": "_xwlTe_xC0Bt",
        "outputId": "27ef2fe8-24a8-4b95-c490-f490d04c9740",
        "colab": {
          "base_uri": "https://localhost:8080/"
        }
      },
      "outputs": [
        {
          "output_type": "stream",
          "name": "stdout",
          "text": [
            "[[ 1 -3]\n",
            " [ 2  4]]\n"
          ]
        }
      ],
      "source": [
        "print(A.transpose())\n"
      ]
    },
    {
      "cell_type": "markdown",
      "metadata": {
        "id": "PQCGqBcTC0Bt"
      },
      "source": [
        "絶対値"
      ]
    },
    {
      "cell_type": "code",
      "execution_count": 111,
      "metadata": {
        "id": "ZYis-j8oC0Bt",
        "outputId": "e7837882-ccc5-4e4c-8dee-4c98d3c7fcca",
        "colab": {
          "base_uri": "https://localhost:8080/"
        }
      },
      "outputs": [
        {
          "output_type": "stream",
          "name": "stdout",
          "text": [
            "[[1 2]\n",
            " [3 4]]\n"
          ]
        }
      ],
      "source": [
        "B = np.abs(A)\n",
        "print(B)\n"
      ]
    },
    {
      "cell_type": "markdown",
      "metadata": {
        "id": "WJCTVQLhC0Bt"
      },
      "source": [
        "行列式"
      ]
    },
    {
      "cell_type": "code",
      "execution_count": 112,
      "metadata": {
        "id": "ElKyX1eCC0Bt",
        "outputId": "949ccf56-380a-4042-8fd1-b3b48acdb2b8",
        "colab": {
          "base_uri": "https://localhost:8080/"
        }
      },
      "outputs": [
        {
          "output_type": "execute_result",
          "data": {
            "text/plain": [
              "np.float64(10.000000000000002)"
            ]
          },
          "metadata": {},
          "execution_count": 112
        }
      ],
      "source": [
        "np.linalg.det(A)\n"
      ]
    },
    {
      "cell_type": "markdown",
      "metadata": {
        "id": "G9aFNlW2C0Bt"
      },
      "source": [
        "階数（ランク）"
      ]
    },
    {
      "cell_type": "code",
      "execution_count": 113,
      "metadata": {
        "id": "frmmHZDGC0Bt",
        "outputId": "870c0e37-ae89-4695-b5d3-56bf495cd35a",
        "colab": {
          "base_uri": "https://localhost:8080/"
        }
      },
      "outputs": [
        {
          "output_type": "execute_result",
          "data": {
            "text/plain": [
              "np.int64(2)"
            ]
          },
          "metadata": {},
          "execution_count": 113
        }
      ],
      "source": [
        "np.linalg.matrix_rank(A)\n"
      ]
    },
    {
      "cell_type": "markdown",
      "metadata": {
        "id": "tUtoSMr3C0Bt"
      },
      "source": [
        "ユークリッドノルム"
      ]
    },
    {
      "cell_type": "code",
      "execution_count": 114,
      "metadata": {
        "id": "xGAm7msyC0Bt",
        "outputId": "8df3a006-8f75-4ed6-d473-57edf3825eeb",
        "colab": {
          "base_uri": "https://localhost:8080/"
        }
      },
      "outputs": [
        {
          "output_type": "stream",
          "name": "stdout",
          "text": [
            "[1 2]\n",
            "2.23606797749979\n"
          ]
        }
      ],
      "source": [
        "x = np.array([1, 2])\n",
        "print(x)\n",
        "print(np.linalg.norm(x))\n"
      ]
    },
    {
      "cell_type": "markdown",
      "metadata": {
        "id": "tN7xIYIWC0Bt"
      },
      "source": [
        "固有値と固有ベクトル"
      ]
    },
    {
      "cell_type": "code",
      "execution_count": 115,
      "metadata": {
        "id": "RSMHcvfBC0Bt",
        "outputId": "872b93b9-cc7a-4b36-85eb-9e26a93b5f48",
        "colab": {
          "base_uri": "https://localhost:8080/"
        }
      },
      "outputs": [
        {
          "output_type": "stream",
          "name": "stdout",
          "text": [
            "eigenvalue= [2.5+1.93649167j 2.5-1.93649167j]\n",
            "eigenvector=\n",
            " [[-0.38729833+0.5j -0.38729833-0.5j]\n",
            " [-0.77459667+0.j  -0.77459667-0.j ]]\n"
          ]
        }
      ],
      "source": [
        "w, v = np.linalg.eig(A)\n",
        "print('eigenvalue=',w)\n",
        "print('eigenvector=\\n',v)\n"
      ]
    },
    {
      "cell_type": "code",
      "execution_count": 116,
      "metadata": {
        "id": "1Ovxx1gtC0Bt",
        "outputId": "c1b640e6-87f5-4e3a-91a5-7fe928b5542f",
        "colab": {
          "base_uri": "https://localhost:8080/"
        }
      },
      "outputs": [
        {
          "output_type": "stream",
          "name": "stdout",
          "text": [
            "eigenvalue = [2.5+1.93649167j 2.5-1.93649167j]\n",
            "eigenvector=\n",
            "[[-0.38729833+0.5j -0.38729833-0.5j]\n",
            " [-0.77459667+0.j  -0.77459667-0.j ]]\n"
          ]
        }
      ],
      "source": [
        "w, v = np.linalg.eig(A)\n",
        "print(f'eigenvalue = {w}')\n",
        "print(f'eigenvector=\\n{v}')\n"
      ]
    },
    {
      "cell_type": "markdown",
      "metadata": {
        "id": "6dacRDaGC0Bu"
      },
      "source": [
        "固有値だけ求めることもできます"
      ]
    },
    {
      "cell_type": "code",
      "execution_count": 117,
      "metadata": {
        "id": "q7vD7cGQC0Bu",
        "outputId": "bc995016-2403-44cb-94f0-399e24315ae3",
        "colab": {
          "base_uri": "https://localhost:8080/"
        }
      },
      "outputs": [
        {
          "output_type": "stream",
          "name": "stdout",
          "text": [
            "[2.5+1.93649167j 2.5-1.93649167j]\n"
          ]
        }
      ],
      "source": [
        "print(np.linalg.eigvals(A))\n"
      ]
    },
    {
      "cell_type": "markdown",
      "metadata": {
        "id": "ZPG8Et06C0Bu"
      },
      "source": [
        "逆行列"
      ]
    },
    {
      "cell_type": "code",
      "execution_count": 118,
      "metadata": {
        "id": "ifim481XC0Bu",
        "outputId": "2ab0cd35-01df-42b8-d5d5-388894eba77b",
        "colab": {
          "base_uri": "https://localhost:8080/"
        }
      },
      "outputs": [
        {
          "output_type": "stream",
          "name": "stdout",
          "text": [
            "[[ 0.4 -0.2]\n",
            " [ 0.3  0.1]]\n"
          ]
        }
      ],
      "source": [
        "C = np.linalg.inv(A)\n",
        "print(C)\n"
      ]
    },
    {
      "cell_type": "markdown",
      "metadata": {
        "id": "ioKeMRTjC0Bu"
      },
      "source": [
        "数列"
      ]
    },
    {
      "cell_type": "code",
      "execution_count": 119,
      "metadata": {
        "id": "_Xj6bt9uC0Bu",
        "outputId": "e9bfc42d-9ab6-4611-c6ae-b3620af1282b",
        "colab": {
          "base_uri": "https://localhost:8080/"
        }
      },
      "outputs": [
        {
          "output_type": "stream",
          "name": "stdout",
          "text": [
            "[0 1 2 3 4 5 6 7 8 9]\n"
          ]
        }
      ],
      "source": [
        "T = np.arange(0, 10, 1)\n",
        "print(T)\n"
      ]
    },
    {
      "cell_type": "code",
      "execution_count": 120,
      "metadata": {
        "id": "J1RifdtpC0Bu",
        "outputId": "0b64e65f-d0fd-4ffd-d1fd-abeb6d4d40d2",
        "colab": {
          "base_uri": "https://localhost:8080/"
        }
      },
      "outputs": [
        {
          "output_type": "stream",
          "name": "stdout",
          "text": [
            "[0.   0.01 0.02 0.03 0.04 0.05 0.06 0.07 0.08 0.09 0.1  0.11 0.12 0.13\n",
            " 0.14 0.15 0.16 0.17 0.18 0.19 0.2  0.21 0.22 0.23 0.24 0.25 0.26 0.27\n",
            " 0.28 0.29 0.3  0.31 0.32 0.33 0.34 0.35 0.36 0.37 0.38 0.39 0.4  0.41\n",
            " 0.42 0.43 0.44 0.45 0.46 0.47 0.48 0.49 0.5  0.51 0.52 0.53 0.54 0.55\n",
            " 0.56 0.57 0.58 0.59 0.6  0.61 0.62 0.63 0.64 0.65 0.66 0.67 0.68 0.69\n",
            " 0.7  0.71 0.72 0.73 0.74 0.75 0.76 0.77 0.78 0.79 0.8  0.81 0.82 0.83\n",
            " 0.84 0.85 0.86 0.87 0.88 0.89 0.9  0.91 0.92 0.93 0.94 0.95 0.96 0.97\n",
            " 0.98 0.99]\n"
          ]
        }
      ],
      "source": [
        "Td = np.arange(0, 1, 0.01)\n",
        "print(Td)\n"
      ]
    },
    {
      "cell_type": "markdown",
      "metadata": {
        "id": "cZRR4slFC0Bu"
      },
      "source": [
        "### Matplotlib"
      ]
    },
    {
      "cell_type": "code",
      "execution_count": 121,
      "metadata": {
        "id": "HaXZIYj6C0Bu",
        "outputId": "f42f9195-5cf7-40d4-acb7-9127053b477c",
        "colab": {
          "base_uri": "https://localhost:8080/",
          "height": 449
        }
      },
      "outputs": [
        {
          "output_type": "display_data",
          "data": {
            "text/plain": [
              "<Figure size 640x480 with 1 Axes>"
            ],
            "image/png": "[encoded data removed]"
          },
          "metadata": {}
        }
      ],
      "source": [
        "import numpy as np\n",
        "import matplotlib.pyplot as plt\n",
        "x = np.arange(0, 4 * np.pi, 0.1)\n",
        "y = np.sin(x)\n",
        "plt.plot(x, y, c='k')   # 横軸 x，縦軸 y でプロット\n",
        "plt.xlabel('x')  # x 軸のラベルを設定\n",
        "plt.ylabel('y')  # y 軸のラベルを設定\n",
        "plt.grid()       # グリッドの表示\n",
        "\n",
        "# plt.savefig(\"matplot_plotexp.pdf\", transparent=True, bbox_inches=\"tight\", pad_inches=0.0)\n"
      ]
    },
    {
      "cell_type": "code",
      "execution_count": 122,
      "metadata": {
        "id": "E_2Jho4MC0Bu",
        "outputId": "db285e66-85f0-4b1f-c792-efefc963846a",
        "colab": {
          "base_uri": "https://localhost:8080/",
          "height": 257
        }
      },
      "outputs": [
        {
          "output_type": "display_data",
          "data": {
            "text/plain": [
              "<Figure size 300x230 with 1 Axes>"
            ],
            "image/png": "[encoded data removed]"
          },
          "metadata": {}
        }
      ],
      "source": [
        "fig, ax = plt.subplots(figsize=(3, 2.3))\n",
        "ax.plot(x, y, c='k')\n",
        "ax.set_xlabel('x') # x 軸のラベルを設定\n",
        "ax.set_ylabel('y') # y 軸のラベルを設定\n",
        "\n",
        "ax.set_xticks(np.linspace(0, 12, 7))\n",
        "ax.set_yticks(np.linspace(-1, 1, 9))\n",
        "\n",
        "ax.grid()          # グリッドの表示\n",
        "\n",
        "#fig.savefig('matplot_plotexp.pdf', transparent=True, bbox_inches='tight', pad_inches=0.0)\n"
      ]
    },
    {
      "cell_type": "code",
      "execution_count": 123,
      "metadata": {
        "id": "dY4UWe_jC0Bu",
        "outputId": "cec15c24-9f8b-40e6-cee5-67bbbfa0f085",
        "colab": {
          "base_uri": "https://localhost:8080/",
          "height": 407
        }
      },
      "outputs": [
        {
          "output_type": "display_data",
          "data": {
            "text/plain": [
              "<Figure size 600x400 with 2 Axes>"
            ],
            "image/png": "[encoded data removed]"
          },
          "metadata": {}
        }
      ],
      "source": [
        "# fig, ax = plt.subplots(2,1)\n",
        "fig, ax = plt.subplots(2,1, figsize=(6, 4))\n",
        "\n",
        "x = np.arange(0, 4 * np.pi, 0.1)\n",
        "y = np.sin(x)\n",
        "z = np.cos(x)\n",
        "w = y + z\n",
        "\n",
        "ax[0].plot(x, y, ls='-', label='sin', c='k')\n",
        "ax[0].plot(x, z, ls='-.', label='cos', c='k')\n",
        "ax[0].set_xlabel('x')\n",
        "ax[0].set_ylabel('y, z')\n",
        "ax[0].set_xlim(0, 4*np.pi)\n",
        "ax[0].grid()\n",
        "ax[0].legend() # 凡例の表示\n",
        "\n",
        "ax[1].plot(x, w, color='k', marker='.')\n",
        "ax[1].set_xlabel('x')\n",
        "ax[1].set_ylabel('w')\n",
        "ax[1].set_xlim(0, 4*np.pi)\n",
        "ax[1].grid(ls=':')\n",
        "\n",
        "fig.tight_layout()\n",
        "# fig.savefig(\"matplot_plotexp2.pdf\", transparent=True, bbox_inches=\"tight\", pad_inches=0.0)\n"
      ]
    },
    {
      "cell_type": "code",
      "execution_count": 124,
      "metadata": {
        "id": "9HsqWQBDC0Bu",
        "outputId": "c394b781-446d-4cb7-847c-69a6716195a3",
        "colab": {
          "base_uri": "https://localhost:8080/",
          "height": 137
        }
      },
      "outputs": [
        {
          "output_type": "display_data",
          "data": {
            "text/plain": [
              "<Figure size 600x100 with 1 Axes>"
            ],
            "image/png": "[encoded data removed]"
          },
          "metadata": {}
        }
      ],
      "source": [
        "import matplotlib.pyplot as plt\n",
        "import numpy as np\n",
        "\n",
        "x  = np.arange(1, 13)\n",
        "y1 = np.repeat(2, 12)\n",
        "y2 = np.repeat(1, 12)\n",
        "\n",
        "markers1 = ['.', ',', 'o', 'v', '^', '<', '>', '1', '2', '3', '4', '8']\n",
        "markers2 = ['s', 'p', '*', 'h', 'H', '+', 'x', 'D', 'd', '|', '_', '$x$']\n",
        "\n",
        "fig, ax = plt.subplots(1,1, figsize=(6, 1))\n",
        "for i in x-1:\n",
        "    ax.scatter(x[i], y1[i], color='k', s=100, marker=markers1[i])\n",
        "    ax.scatter(x[i], y2[i], color='k', s=100, marker=markers2[i])\n",
        "    ax.set_xticks(np.linspace(1, 12, 12))\n",
        "    ax.set_ylim([0.8, 2.2])\n",
        "    ax.set_yticks([1,2])\n",
        "\n",
        "# fig.savefig(\"markers.pdf\", transparent=True, bbox_inches=\"tight\", pad_inches=0.0)\n"
      ]
    },
    {
      "cell_type": "markdown",
      "metadata": {
        "id": "otZMnQ5lC0Bu"
      },
      "source": [
        "### SciPy"
      ]
    },
    {
      "cell_type": "code",
      "execution_count": 125,
      "metadata": {
        "id": "PYo8M19yC0Bu",
        "outputId": "04089676-0451-4409-e705-ecb723c46874",
        "colab": {
          "base_uri": "https://localhost:8080/",
          "height": 257
        }
      },
      "outputs": [
        {
          "output_type": "display_data",
          "data": {
            "text/plain": [
              "<Figure size 300x230 with 1 Axes>"
            ],
            "image/png": "[encoded data removed]"
          },
          "metadata": {}
        }
      ],
      "source": [
        "from scipy.integrate import odeint\n",
        "import numpy as np\n",
        "import matplotlib.pyplot as plt\n",
        "\n",
        "def system(y, t):\n",
        "    if t < 10.0:\n",
        "        u = 0.0\n",
        "    else:\n",
        "        u = 1.0\n",
        "\n",
        "    dydt = (-y + u)/5.0\n",
        "    return dydt\n",
        "\n",
        "y0 = 0.5\n",
        "t = np.arange(0, 40, 0.04)\n",
        "\n",
        "y = odeint(system, y0, t)\n",
        "\n",
        "fig, ax = plt.subplots(figsize=(3, 2.3))\n",
        "ax.plot(t, y, label='y', c='k')\n",
        "ax.plot(t, 1 * (t>=10), ls='--', label='u', c='k')\n",
        "ax.set_xlabel('t')\n",
        "ax.set_ylabel('y, u')\n",
        "ax.legend(loc='best')\n",
        "ax.grid(ls=':')\n",
        "\n",
        "# fig.savefig(\"scipy_demo.pdf\", transparent=True, bbox_inches=\"tight\", pad_inches=0.0)\n"
      ]
    },
    {
      "cell_type": "markdown",
      "metadata": {
        "id": "b1pCECwuC0Bu"
      },
      "source": [
        "### SymPy"
      ]
    },
    {
      "cell_type": "code",
      "execution_count": 126,
      "metadata": {
        "id": "lV78ExR7C0Bu",
        "outputId": "39badf39-7c3a-400e-dbf1-8b35ba80fbf0",
        "colab": {
          "base_uri": "https://localhost:8080/"
        }
      },
      "outputs": [
        {
          "output_type": "stream",
          "name": "stdout",
          "text": [
            "[-3/2, -1]\n"
          ]
        }
      ],
      "source": [
        "import sympy as sp\n",
        "sp.init_printing()\n",
        "s = sp.Symbol('s')\n",
        "root = sp.solve(2 * s**2 +5*s+3, s)\n",
        "print(root)\n"
      ]
    },
    {
      "cell_type": "markdown",
      "metadata": {
        "id": "bK4rylyyC0Bu"
      },
      "source": [
        "LaTex形式で表示する場合には，printを使わずに実行する"
      ]
    },
    {
      "cell_type": "code",
      "execution_count": 127,
      "metadata": {
        "id": "IbGmk7DJC0Bu",
        "outputId": "54662f03-a132-4ee0-f687-55628ecc013e",
        "colab": {
          "base_uri": "https://localhost:8080/",
          "height": 58
        }
      },
      "outputs": [
        {
          "output_type": "execute_result",
          "data": {
            "text/plain": [
              "[-3/2, -1]"
            ],
            "text/latex": "$\\displaystyle \\left[ - \\frac{3}{2}, \\  -1\\right]$"
          },
          "metadata": {},
          "execution_count": 127
        }
      ],
      "source": [
        "root\n"
      ]
    },
    {
      "cell_type": "markdown",
      "metadata": {
        "id": "u2N05N77C0Bv"
      },
      "source": [
        "展開"
      ]
    },
    {
      "cell_type": "code",
      "execution_count": 128,
      "metadata": {
        "id": "uA2HBxn-C0Bv",
        "outputId": "4f6e2c37-99d7-4dd5-82bc-f5b45ee19fcd",
        "colab": {
          "base_uri": "https://localhost:8080/"
        }
      },
      "outputs": [
        {
          "output_type": "stream",
          "name": "stdout",
          "text": [
            "s**3 + 5*s**2 + 8*s + 4\n"
          ]
        }
      ],
      "source": [
        "f = sp.expand( (s+1)*(s+2)**2, s)\n",
        "print(f)\n"
      ]
    },
    {
      "cell_type": "code",
      "execution_count": 129,
      "metadata": {
        "id": "m1HXooINC0Bv",
        "outputId": "4aedb457-1014-46d8-98d9-a73aec12db25",
        "colab": {
          "base_uri": "https://localhost:8080/",
          "height": 39
        }
      },
      "outputs": [
        {
          "output_type": "execute_result",
          "data": {
            "text/plain": [
              " 3      2          \n",
              "s  + 5⋅s  + 8⋅s + 4"
            ],
            "text/latex": "$\\displaystyle s^{3} + 5 s^{2} + 8 s + 4$"
          },
          "metadata": {},
          "execution_count": 129
        }
      ],
      "source": [
        "f\n"
      ]
    },
    {
      "cell_type": "markdown",
      "metadata": {
        "id": "N5Wya5O5C0Bv"
      },
      "source": [
        "因数分解"
      ]
    },
    {
      "cell_type": "code",
      "execution_count": 130,
      "metadata": {
        "id": "xdRw1-5xC0Bv",
        "outputId": "e3c5c45d-1784-4101-b3da-ee2a44b60694",
        "colab": {
          "base_uri": "https://localhost:8080/"
        }
      },
      "outputs": [
        {
          "output_type": "stream",
          "name": "stdout",
          "text": [
            "(s + 1)*(s + 2)**2\n"
          ]
        }
      ],
      "source": [
        "g = sp.factor(f, s)\n",
        "print(g)\n"
      ]
    },
    {
      "cell_type": "code",
      "execution_count": 131,
      "metadata": {
        "id": "D4cZNHzWC0Bv",
        "outputId": "f951ce5e-a1a9-42d9-bf3e-914bc6264a61",
        "colab": {
          "base_uri": "https://localhost:8080/",
          "height": 39
        }
      },
      "outputs": [
        {
          "output_type": "execute_result",
          "data": {
            "text/plain": [
              "               2\n",
              "(s + 1)⋅(s + 2) "
            ],
            "text/latex": "$\\displaystyle \\left(s + 1\\right) \\left(s + 2\\right)^{2}$"
          },
          "metadata": {},
          "execution_count": 131
        }
      ],
      "source": [
        "g\n"
      ]
    },
    {
      "cell_type": "markdown",
      "metadata": {
        "id": "ycX71JFYC0Bv"
      },
      "source": [
        "テイラー展開"
      ]
    },
    {
      "cell_type": "code",
      "execution_count": 132,
      "metadata": {
        "id": "Mz0KU8ouC0Bv",
        "outputId": "eab6f359-f359-4c0e-8849-44bc81902f18",
        "colab": {
          "base_uri": "https://localhost:8080/"
        }
      },
      "outputs": [
        {
          "output_type": "stream",
          "name": "stdout",
          "text": [
            "x - x**3/6 + x**5/120 - x**7/5040 + O(x**8)\n"
          ]
        }
      ],
      "source": [
        "import sympy as sp\n",
        "sp.init_printing()\n",
        "\n",
        "x = sp.Symbol('x')\n",
        "print(sp.series( sp.sin(x), x0=0, n=8 ))\n"
      ]
    },
    {
      "cell_type": "markdown",
      "metadata": {
        "id": "21WAgEP5C0Bv"
      },
      "source": [
        "ラプラス変換"
      ]
    },
    {
      "cell_type": "code",
      "execution_count": 133,
      "metadata": {
        "tags": [],
        "id": "r6TyxPIqC0Bv",
        "outputId": "eca1a348-bf42-463b-ee4e-81e76037ede1",
        "colab": {
          "base_uri": "https://localhost:8080/"
        }
      },
      "outputs": [
        {
          "output_type": "stream",
          "name": "stdout",
          "text": [
            "(1/(a + s), -a, True)\n"
          ]
        }
      ],
      "source": [
        "s = sp.Symbol('s')\n",
        "t = sp.Symbol('t', positive=True)\n",
        "a = sp.Symbol('a', real=True)\n",
        "print(sp.laplace_transform(sp.exp(-a*t), t, s))\n"
      ]
    }
  ],
  "metadata": {
    "kernelspec": {
      "display_name": "Python 3 (ipykernel)",
      "language": "python",
      "name": "python3"
    },
    "language_info": {
      "codemirror_mode": {
        "name": "ipython",
        "version": 3
      },
      "file_extension": ".py",
      "mimetype": "text/x-python",
      "name": "python",
      "nbconvert_exporter": "python",
      "pygments_lexer": "ipython3",
      "version": "3.11.3"
    },
    "toc-autonumbering": false,
    "toc-showcode": false,
    "toc-showmarkdowntxt": false,
    "toc-showtags": false,
    "colab": {
      "provenance": []
    }
  },
  "nbformat": 4,
  "nbformat_minor": 0
}